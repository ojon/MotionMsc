{
 "cells": [
  {
   "cell_type": "markdown",
   "metadata": {
    "run_control": {
     "breakpoint": false
    }
   },
   "source": [
    "# Funções e scripts para gerar uma palavra do movimento\n",
    "\n",
    "\n",
    "autor: João Oda\n",
    "\n",
    "bibliotecas necessárias:"
   ]
  },
  {
   "cell_type": "code",
   "execution_count": 8,
   "metadata": {
    "collapsed": true,
    "run_control": {
     "breakpoint": false
    }
   },
   "outputs": [],
   "source": [
    "import numpy as np\n",
    "import matplotlib.pyplot as plt\n",
    "%matplotlib inline\n",
    "import glob\n",
    "import sys\n",
    "import string\n",
    "import Levenshtein as l\n",
    "import itertools\n",
    "import scipy.io\n",
    "\n",
    "sys.path.insert(1, r'./functions')  # add dir to pythonpath\n",
    "from detect_peaks import detect_peaks"
   ]
  },
  {
   "cell_type": "markdown",
   "metadata": {
    "run_control": {
     "breakpoint": false
    }
   },
   "source": [
    "## Intervalos de ativação articular monotônica\n",
    "\n",
    "A função genIAAM particiona o intervalo de tempo do movimento, em sub intervalos com a propriedade de ativação monotônica.\n",
    "\n",
    "Inicialmente para o sinal correspondente a cada DOF, é realizada: -detecção de picos e vales. -remoção de pontos correspondentes a variações de amplitudes muito pequenas em sequência.\n",
    "\n",
    "Depois após a união dos pontos dos multiplos sinais, são removidos pontos correspondentes a instântes muito próximos."
   ]
  },
  {
   "cell_type": "code",
   "execution_count": 9,
   "metadata": {
    "collapsed": true,
    "run_control": {
     "breakpoint": false
    }
   },
   "outputs": [],
   "source": [
    "def gen_iaam(data, jointdofset,\n",
    "             minpeakdist=5,\n",
    "             minpeakheight=-180,\n",
    "             amplimjoint=15,\n",
    "             simult_lim=5,\n",
    "             display=False):\n",
    "    \"\"\" determina os ponto de particão do intervalo em\n",
    "    subintervalos IAAM\n",
    "\n",
    "        Parameters\n",
    "        ----------\n",
    "        data : ndarray, uma coluna para cada DOF, uma linha para cada\n",
    "        frame, dtype indicando os labels\n",
    "\n",
    "        jointdofset : list, uma lista com os labels dos DOF de interesse\n",
    "\n",
    "        minpeakheight : {None, number}, optional (default = -180\n",
    "            A etapa de detecção de picos, se restringe a picos maiores\n",
    "            que minpeakheight\n",
    "\n",
    "        minpeakdist : positive integer, optional (default = 5\n",
    "            A etapa de detecção de picos, se restringe a picos que estão\n",
    "            separados de pelo menos minPeakDistance amostras\n",
    "\n",
    "        amplimjoint : positive number, optional (default = 15)\n",
    "            Entre dois pontos de partição a diferença de amplitude é de\n",
    "            pelo menos amplimjoint\n",
    "\n",
    "        simult_lim: = positive number, optional (default = 3)\n",
    "            Pontos que ocorrem em instântes a menos de 3 frames de diferença\n",
    "            são considerados simultanêos e somente o primeiro é considerado\n",
    "\n",
    "        display: bool, optional (default = False)\n",
    "            if True (1), plot data in matplotlib figure.\n",
    "\n",
    "        Returns\n",
    "        -------\n",
    "        ind : 1D array_like\n",
    "            indices dos pontos de partição do intervalo\n",
    "    \"\"\"\n",
    "\n",
    "    multsigpoints = np.array([], dtype='int64')\n",
    "\n",
    "    if display:\n",
    "        plt.subplots(1, sharex=True, figsize=(6, 6))\n",
    "\n",
    "    for dof in jointdofset:\n",
    "        curve = data[dof]\n",
    "        valleys = detect_peaks(curve, mph=minpeakheight, mpd=minpeakdist, valley=True, edge='both')\n",
    "        peaks = detect_peaks(curve, mph=minpeakheight, mpd=minpeakdist, edge='both')\n",
    "        peaksandvalleys = np.union1d(valleys, peaks)\n",
    "        peaksandvalleys = np.insert(peaksandvalleys, [0], 0)\n",
    "        peaksandvalleys = np.append(peaksandvalleys, [curve.size - 1])\n",
    "\n",
    "        ampsignalpoints = np.array([], dtype='int64')\n",
    "        first = peaksandvalleys[0]\n",
    "        second = peaksandvalleys[1]\n",
    "        for val in peaksandvalleys[2::]:\n",
    "            third = val\n",
    "            v1 = curve[first]\n",
    "            v2 = curve[second]\n",
    "            v3 = curve[third]\n",
    "            if (np.abs(v1 - v2) > amplimjoint) or (np.abs(v2 - v3) > amplimjoint):\n",
    "                ampsignalpoints = np.append(ampsignalpoints, second)\n",
    "            first = second\n",
    "            second = third\n",
    "\n",
    "        ampsignalpoints = np.insert(ampsignalpoints, 0, 0)\n",
    "        ampsignalpoints = np.append(ampsignalpoints, curve.size - 1)\n",
    "        multsigpoints = np.union1d(multsigpoints, ampsignalpoints)\n",
    "        nframes = np.shape(data)[0]\n",
    "        frames = np.linspace(1, nframes, nframes)\n",
    "        if display:\n",
    "            plt.plot(frames, curve, label=dof, lw=1)\n",
    "            plt.plot(frames[ampsignalpoints], curve[ampsignalpoints], 'bo')\n",
    "            plt.plot(frames[peaksandvalleys], curve[peaksandvalleys], 'rx')\n",
    "\n",
    "    partitionpoints = np.array([multsigpoints[0]], dtype='int64')\n",
    "\n",
    "    for sigPoint in multsigpoints[1::]:\n",
    "        if (sigPoint - partitionpoints[-1]) > simult_lim:\n",
    "            partitionpoints = np.append(partitionpoints, sigPoint)\n",
    "\n",
    "    if display:\n",
    "        for finalSeg in partitionpoints:\n",
    "            plt.axvline(x=finalSeg, ls='--')\n",
    "        plt.legend(fontsize='medium')\n",
    "        plt.xlabel('frames', fontsize=16)\n",
    "        plt.ylabel('angulo articular(graus)', fontsize=16)\n",
    "        # plt.ylim((-40, 90))\n",
    "        #plt.show()\n",
    "\n",
    "    return partitionpoints"
   ]
  },
  {
   "cell_type": "code",
   "execution_count": 10,
   "metadata": {
    "collapsed": false,
    "run_control": {
     "breakpoint": false
    }
   },
   "outputs": [
    {
     "data": {
      "image/png": "[encoded data removed]",
      "text/plain": [
       "<matplotlib.figure.Figure at 0x7f6bc03ae978>"
      ]
     },
     "metadata": {},
     "output_type": "display_data"
    }
   ],
   "source": [
    "fileList = glob.glob(\"./cleanNpyData/*walk2StepsLstart*\")\n",
    "data = np.load(fileList[1])\n",
    "dofs = [\n",
    "    'rhipjoint__rfemur_rx',  #hip\n",
    "    'rfemur__rtibia_rx',  #knee\n",
    "    'rtibia__rfoot_rx',  #ankle\n",
    "    \n",
    "]\n",
    "partitionP = gen_iaam(data,dofs,display = True)"
   ]
  },
  {
   "cell_type": "markdown",
   "metadata": {
    "run_control": {
     "breakpoint": false
    }
   },
   "source": [
    "## Motion Word\n",
    "\n",
    "### Algumas funções auxiliares:\n",
    "A função cInt2cChar converte um inteiro para um correspondente char, de acordo com a convenção de alfabeto adota."
   ]
  },
  {
   "cell_type": "code",
   "execution_count": 11,
   "metadata": {
    "collapsed": true,
    "run_control": {
     "breakpoint": false
    }
   },
   "outputs": [],
   "source": [
    "def cInt2cChar(x):\n",
    "    return chr(64+x)"
   ]
  },
  {
   "cell_type": "markdown",
   "metadata": {
    "run_control": {
     "breakpoint": false
    }
   },
   "source": [
    "A função int2base converte um inteiro para uma representação em outra base."
   ]
  },
  {
   "cell_type": "code",
   "execution_count": 12,
   "metadata": {
    "collapsed": true,
    "run_control": {
     "breakpoint": false
    }
   },
   "outputs": [],
   "source": [
    "def int2base(x, base):\n",
    "    digs = string.digits + string.ascii_letters\n",
    "    if x < 0:\n",
    "        sign = -1\n",
    "    elif x == 0:\n",
    "        return digs[0]\n",
    "    else:\n",
    "        sign = 1\n",
    "    x *= sign\n",
    "    digits = []\n",
    "    while x:\n",
    "        index = x % base\n",
    "        digits.append(digs[index])\n",
    "        x //= base\n",
    "    if sign < 0:\n",
    "        digits.append('-')\n",
    "    digits.reverse()\n",
    "    return ''.join(digits)"
   ]
  },
  {
   "cell_type": "markdown",
   "metadata": {
    "run_control": {
     "breakpoint": false
    }
   },
   "source": [
    "### Função que gera uma motion word\n",
    "\n",
    "A função gen_motion_word_int recebe como entrada os dados, o conjunto de graus de liberdade das articulações a serem utilizadas para gerar a Motion Word e o parâmetro varLevel, que corresponde a minima magnitude da velocidade angular média(graus por segundo) para que seja considerada uma variação."
   ]
  },
  {
   "cell_type": "code",
   "execution_count": 13,
   "metadata": {
    "collapsed": true,
    "run_control": {
     "breakpoint": false
    }
   },
   "outputs": [],
   "source": [
    "def gen_motion_word_int(data, joint_dof_set, var_levels, amp_lim_joint=5,\n",
    "                        display=False, symb = True):\n",
    "    \"\"\"\n",
    "    :param amp_lim_joint:\n",
    "    :param data: ndarray, uma coluna para cada DOF, uma linha para cada\n",
    "           frame, dtype indicando os labels\n",
    "\n",
    "    :param joint_dof_set: list, uma lista com os labels dos DOF de interesse, no máximo\n",
    "\n",
    "    :param var_level: positive integer, optional (default = 10)\n",
    "           calculamos a velocidade angular média(graus/segundos) no intervalo e comparamos\n",
    "           com varLevel para determinar o estado do IAAM\n",
    "\n",
    "    :param display: bool, optional (default = False)\n",
    "            if True (1), plot data in matplotlib figure.\n",
    "\n",
    "    :return: partition_points: 1D array_like\n",
    "            indices dos pontos de partição do intervalo\n",
    "\n",
    "    :return: motionWordInt: 1D array_like\n",
    "            sequência de número correspondente a motion word\n",
    "\n",
    "    \"\"\"\n",
    "    partition_points = gen_iaam(data, joint_dof_set, amplimjoint=amp_lim_joint,\n",
    "                                display=display)\n",
    "    motion_word_int = np.array([], dtype=int)\n",
    "    pseg = 0\n",
    "    for point in partition_points[1:]:\n",
    "        symbol = 0;\n",
    "        dofIndex = 0;\n",
    "        for dof in joint_dof_set[::-1]:\n",
    "            curve = data[dof]\n",
    "            diff = curve[point] - curve[pseg]\n",
    "            slope = diff * 120 / (1.0 * point - pseg)\n",
    "            if np.abs(slope) > var_levels[dof]:\n",
    "                if diff > 0:\n",
    "                    symbol += 2 * (3 ** dofIndex)\n",
    "                else:\n",
    "                    symbol += 1 * (3 ** dofIndex)\n",
    "            dofIndex += 1\n",
    "        motion_word_int = np.append(motion_word_int, int(symbol))\n",
    "        pseg = point\n",
    "    labels_points = partition_points[0:-1] + (partition_points[1::] - partition_points[0:-1]) / 2.0\n",
    "    mw_b3 = [int2base(c, 3) for c in motion_word_int]\n",
    "    if display:\n",
    "        for symb_int, symb_b3, lp in zip(motion_word_int, mw_b3, labels_points):\n",
    "            if symb == True:\n",
    "                plt.text(lp - 2, 55, cInt2cChar(symb_int), fontsize=14, color='purple')\n",
    "            else:\n",
    "                plt.text(lp - 4, 40, symb_int, fontsize=10, color='purple')\n",
    "            #plt.text(lp - 2, 55, symb_b3, fontsize=14, color='purple')\n",
    "        plt.show()\n",
    "    return partition_points, motion_word_int"
   ]
  },
  {
   "cell_type": "markdown",
   "metadata": {
    "run_control": {
     "breakpoint": false
    }
   },
   "source": [
    "### Exemplo"
   ]
  },
  {
   "cell_type": "code",
   "execution_count": 14,
   "metadata": {
    "collapsed": false
   },
   "outputs": [],
   "source": [
    "fileList = glob.glob(\"./cleanNpyData/*walk2StepsLstart*\")\n",
    "data = np.load(fileList[1])\n",
    "dofs = [\n",
    "    'rhipjoint__rfemur_rx',  #hip\n",
    "    'rfemur__rtibia_rx',  #knee\n",
    "    'rtibia__rfoot_rx',  #ankle\n",
    "    #'lclavicle__lhumerus_rx'\n",
    "]\n",
    "var_levels = {\n",
    "    'rhipjoint__rfemur_rx': 30,\n",
    "    'rfemur__rtibia_rx': 25,\n",
    "    'rtibia__rfoot_rx': 10,\n",
    "    #'lclavicle__lhumerus_rx': 30\n",
    "}"
   ]
  },
  {
   "cell_type": "code",
   "execution_count": 15,
   "metadata": {
    "collapsed": false,
    "run_control": {
     "breakpoint": false
    }
   },
   "outputs": [
    {
     "data": {
      "image/png": "[encoded data removed]",
      "text/plain": [
       "<matplotlib.figure.Figure at 0x7f6bc02a5828>"
      ]
     },
     "metadata": {},
     "output_type": "display_data"
    }
   ],
   "source": [
    "[p, w] = gen_motion_word_int(data, dofs, var_levels, display = True, symb=True)"
   ]
  },
  {
   "cell_type": "markdown",
   "metadata": {
    "run_control": {
     "breakpoint": false
    }
   },
   "source": [
    "representação em base 3"
   ]
  },
  {
   "cell_type": "code",
   "execution_count": 16,
   "metadata": {
    "collapsed": false,
    "run_control": {
     "breakpoint": false
    }
   },
   "outputs": [
    {
     "data": {
      "text/plain": [
       "['212', '122', '121', '111', '112', '22', '221', '211', '201']"
      ]
     },
     "execution_count": 16,
     "metadata": {},
     "output_type": "execute_result"
    }
   ],
   "source": [
    "[int2base(c,3) for c in w]"
   ]
  },
  {
   "cell_type": "markdown",
   "metadata": {
    "run_control": {
     "breakpoint": false
    }
   },
   "source": [
    "representação  com letras do alfato romano e o simbolo @"
   ]
  },
  {
   "cell_type": "code",
   "execution_count": 17,
   "metadata": {
    "collapsed": false,
    "run_control": {
     "breakpoint": false
    }
   },
   "outputs": [
    {
     "data": {
      "text/plain": [
       "'WQPMNHYVS'"
      ]
     },
     "execution_count": 17,
     "metadata": {},
     "output_type": "execute_result"
    }
   ],
   "source": [
    "''.join([cInt2cChar(c) for c in w])"
   ]
  },
  {
   "cell_type": "markdown",
   "metadata": {
    "run_control": {
     "breakpoint": false
    }
   },
   "source": [
    "representação por inteiros"
   ]
  },
  {
   "cell_type": "code",
   "execution_count": 28,
   "metadata": {
    "collapsed": false,
    "run_control": {
     "breakpoint": false
    }
   },
   "outputs": [
    {
     "name": "stdout",
     "output_type": "stream",
     "text": [
      "[23 17 16 13 14  8 25 22 19]\n"
     ]
    }
   ],
   "source": [
    "print(w)"
   ]
  }
 ],
 "metadata": {
  "kernelspec": {
   "display_name": "Python 3",
   "language": "python",
   "name": "python3"
  },
  "language_info": {
   "codemirror_mode": {
    "name": "ipython",
    "version": 3
   },
   "file_extension": ".py",
   "mimetype": "text/x-python",
   "name": "python",
   "nbconvert_exporter": "python",
   "pygments_lexer": "ipython3",
   "version": "3.5.1"
  }
 },
 "nbformat": 4,
 "nbformat_minor": 0
}
