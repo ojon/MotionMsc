{
 "metadata": {
  "name": "",
  "signature": "sha256:3e50055424f6bef3fd25ccb0d2878bcd064285d15077cdd6bee25b38dbdb1b49"
 },
 "nbformat": 3,
 "nbformat_minor": 0,
 "worksheets": [
  {
   "cells": [
    {
     "cell_type": "markdown",
     "metadata": {},
     "source": [
      "#Filtragem dos Dados "
     ]
    },
    {
     "cell_type": "markdown",
     "metadata": {},
     "source": [
      "Os dados foram filtrados com um filtro butterworth passa baixa de segunda ordem, com a frequ\u00eancia de corte \u00f3tima determinada por meio de analise de residuos."
     ]
    },
    {
     "cell_type": "code",
     "collapsed": false,
     "input": [
      "import numpy as np\n",
      "import matplotlib.pyplot as plt\n",
      "%matplotlib inline\n",
      "import glob\n",
      "from scipy.signal import butter, filtfilt\n",
      "\n",
      "import sys\n",
      "sys.path.insert(1, r'./functions') # add dir to pythonpath\n",
      "from residual_analysis import residual_analysis"
     ],
     "language": "python",
     "metadata": {},
     "outputs": [],
     "prompt_number": 1
    },
    {
     "cell_type": "code",
     "collapsed": false,
     "input": [
      "fileList = glob.glob(\"./csvData/*.csv\")\n",
      "freq = 120"
     ],
     "language": "python",
     "metadata": {},
     "outputs": [],
     "prompt_number": 2
    },
    {
     "cell_type": "code",
     "collapsed": false,
     "input": [
      "for filePath in fileList:\n",
      "    filePrefix = filePath[10:-4]\n",
      "    \n",
      "    data = np.genfromtxt(filePath, dtype=float, delimiter=',', names=True) \n",
      "    DOFsLabels = data.dtype.fields.keys()\n",
      "    nFrames = np.shape(data)[0]\n",
      "    frames = np.linspace(1, nFrames, nFrames)\n",
      "    \n",
      "    fData = np.copy(data)\n",
      "\n",
      "    #filtrar \n",
      "    for dofLabel in DOFsLabels:\n",
      "        y = data[dofLabel]\n",
      "    \n",
      "        # detecta freq de corte automaticamente\n",
      "        fc = residual_analysis(y, freq = freq)\n",
      "        if fc:\n",
      "            # Butterworth filter\n",
      "            b, a = butter(2, (fc/(freq/2)))\n",
      "            fData[dofLabel] = filtfilt(b, a, y)\n",
      "            \n",
      "    np.save('./npyData/filt_' + filePrefix + '.npy',fData)"
     ],
     "language": "python",
     "metadata": {},
     "outputs": [],
     "prompt_number": 3
    }
   ],
   "metadata": {}
  }
 ]
}